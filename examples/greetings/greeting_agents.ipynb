{
  "cells": [
    {
      "cell_type": "code",
      "execution_count": 2,
      "metadata": {
        "pycharm": {
          "is_executing": false
        }
      },
      "outputs": [],
      "source": [
        "from oef.agents import Agent\n",
        "import asyncio\n",
        "from typing import List\n",
        "\n",
        "from oef.agents import Agent\n",
        "from oef.proxy import OEFNetworkProxy\n",
        "from oef.query import Query\n",
        "\n",
        "from oef.schema import DataModel, Description, AttributeSchema\n",
        "from oef.query import Constraint, Eq"
      ]
    },
    {
      "cell_type": "code",
      "execution_count": 3,
      "metadata": {
        "pycharm": {
          "is_executing": false
        }
      },
      "outputs": [],
      "source": "class GreetingsAgent(Agent):\n    \"\"\"A class that implements the greeting agent.\"\"\"\n\n    def on_message(self, msg_id: int, dialogue_id: int, origin: str, content: bytes):\n        print(\"[{}]: Received message: msg_id\u003d{}, dialogue_id\u003d{}, origin\u003d{}, content\u003d{}\"\n              .format(self.public_key, msg_id, dialogue_id, origin, content))\n        if content \u003d\u003d b\"hello\":\n            print(\"[{}]: Sending greetings message to {}\".format(self.public_key, origin))\n            self.send_message(1, dialogue_id, origin, b\"greetings\")\n            self.stop()\n        if content \u003d\u003d b\"greetings\":\n            self.stop()\n\n    def on_search_result(self, search_id: int, agents: List[str]):\n        if len(agents) \u003e 0:\n            print(\"[{}]: Agents found: {}\".format(self.public_key, agents))\n            for a in agents:\n                self.send_message(0, 0, a, b\"hello\")\n        else:\n            print(\"[{}]: No agent found.\".format(self.public_key))\n            self.stop()\n"
    },
    {
      "cell_type": "code",
      "execution_count": 4,
      "metadata": {
        "pycharm": {
          "is_executing": false
        }
      },
      "outputs": [],
      "source": [
        "# create agents\n",
        "\n",
        "client_proxy \u003d OEFNetworkProxy(\"greetings_client\", oef_addr\u003d\"127.0.0.1\", port\u003d3333)\n",
        "server_proxy \u003d OEFNetworkProxy(\"greetings_server\", oef_addr\u003d\"127.0.0.1\", port\u003d3333)\n",
        "client_agent \u003d GreetingsAgent(client_proxy)\n",
        "server_agent \u003d GreetingsAgent(server_proxy)"
      ]
    },
    {
      "cell_type": "code",
      "execution_count": 5,
      "metadata": {
        "pycharm": {
          "is_executing": false
        }
      },
      "outputs": [
        {
          "data": {
            "text/plain": [
              "True"
            ]
          },
          "execution_count": 5,
          "metadata": {},
          "output_type": "execute_result"
        }
      ],
      "source": [
        "# connect the agents to the OEF\n",
        "await client_agent.async_connect()\n",
        "await server_agent.async_connect()\n"
      ]
    },
    {
      "cell_type": "code",
      "execution_count": 6,
      "metadata": {
        "pycharm": {
          "is_executing": false
        }
      },
      "outputs": [],
      "source": [
        "# register the greetings service agent on the OEF\n",
        "say_hello \u003d AttributeSchema(\"say_hello\", bool, True, \"Set to \u0027True\u0027 if your service answers to \u0027hello\u0027 messages.\")\n",
        "greetings_model \u003d DataModel(\"greetings\", [say_hello], \"Greetings service.\")\n",
        "greetings_description \u003d Description({\"say_hello\": True}, greetings_model)\n",
        "server_agent.register_service(0, greetings_description)"
      ]
    },
    {
      "cell_type": "code",
      "execution_count": 7,
      "metadata": {
        "pycharm": {
          "is_executing": false
        }
      },
      "outputs": [
        {
          "name": "stdout",
          "output_type": "stream",
          "text": [
            "[greetings_client]: Search for \u0027greetings\u0027 services. search_id\u003d0\n"
          ]
        }
      ],
      "source": [
        "# the client executes the search for greetings services\n",
        "# we are looking for services that answers to \"hello\" messages\n",
        "query \u003d Query([Constraint(\"say_hello\", Eq(True))], greetings_model)\n",
        "\n",
        "print(\"[{}]: Search for \u0027greetings\u0027 services. search_id\u003d{}\".format(client_agent.public_key, 0))\n",
        "client_agent.search_services(0, query)\n"
      ]
    },
    {
      "cell_type": "code",
      "execution_count": 8,
      "metadata": {
        "pycharm": {
          "is_executing": false
        }
      },
      "outputs": [
        {
          "name": "stdout",
          "output_type": "stream",
          "text": [
            "[greetings_client]: Agents found: [\u0027greetings_server\u0027]\n",
            "[greetings_server]: Received message: msg_id\u003d0, dialogue_id\u003d0, origin\u003dgreetings_client, content\u003db\u0027hello\u0027\n",
            "[greetings_server]: Sending greetings message to greetings_client\n",
            "[greetings_client]: Received message: msg_id\u003d1, dialogue_id\u003d0, origin\u003dgreetings_server, content\u003db\u0027greetings\u0027\n"
          ]
        }
      ],
      "source": [
        "# run the agents\n",
        "try:\n",
        "    loop \u003d asyncio.get_event_loop()\n",
        "    await asyncio.gather(\n",
        "        client_agent.async_run(),\n",
        "        server_agent.async_run())\n",
        "finally:\n",
        "    client_agent.stop()\n",
        "    server_agent.stop()\n",
        "\n",
        "    await client_agent.async_disconnect()\n",
        "    await server_agent.async_disconnect()\n"
      ]
    },
    {
      "cell_type": "code",
      "execution_count": null,
      "metadata": {
        "pycharm": {}
      },
      "outputs": [],
      "source": []
    }
  ],
  "metadata": {
    "kernelspec": {
      "display_name": "Python 3",
      "language": "python",
      "name": "python3"
    },
    "language_info": {
      "codemirror_mode": {
        "name": "ipython",
        "version": 3
      },
      "file_extension": ".py",
      "mimetype": "text/x-python",
      "name": "python",
      "nbconvert_exporter": "python",
      "pygments_lexer": "ipython3",
      "version": "3.7.2"
    }
  },
  "nbformat": 4,
  "nbformat_minor": 2
}